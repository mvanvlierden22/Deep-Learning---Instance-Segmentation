{
 "cells": [
  {
   "cell_type": "code",
   "execution_count": 2,
   "metadata": {},
   "outputs": [],
   "source": [
    "import numpy as np\n",
    "import pandas as pd\n",
    "import matplotlib.pyplot as plt\n",
    "import cv2\n",
    "import os \n",
    "import json\n"
   ]
  },
  {
   "cell_type": "markdown",
   "metadata": {},
   "source": [
    "### Load data"
   ]
  },
  {
   "cell_type": "code",
   "execution_count": 19,
   "metadata": {},
   "outputs": [
    {
     "name": "stdout",
     "output_type": "stream",
     "text": [
      "Number of images: 512\n",
      "Example image: {'id': 1, 'width': 1920, 'height': 1080, 'file_name': '0.jpg', 'license': 0, 'flickr_url': '', 'coco_url': '', 'date_captured': 0}\n",
      "Example annotation: {'id': 1, 'image_id': 1, 'category_id': 1, 'segmentation': [[1630.5, 686.9, 1632.0, 683.6, 1633.4, 679.7, 1634.2, 676.1, 1634.2, 673.0, 1634.8, 669.8, 1634.8, 667.5, 1636.7, 665.0, 1637.6, 664.8, 1638.0, 665.9, 1639.1, 669.3, 1641.2, 673.4, 1643.5, 678.4, 1645.4, 682.1, 1648.1, 686.4, 1650.2, 688.8, 1650.9, 691.6, 1650.0, 693.9, 1647.4, 695.9, 1644.6, 697.6, 1643.9, 699.1, 1646.1, 700.1, 1650.6, 700.0, 1655.2, 699.9, 1658.5, 699.5, 1661.6, 698.5, 1662.1, 697.2, 1661.5, 694.9, 1660.7, 693.0, 1659.9, 691.7, 1659.1, 689.6, 1658.3, 687.1, 1657.1, 685.2, 1656.1, 683.1, 1654.8, 680.1, 1653.8, 676.5, 1652.6, 672.3, 1650.5, 669.2, 1649.1, 667.3, 1648.2, 664.9, 1647.5, 662.1, 1647.1, 658.5, 1647.0, 654.4, 1648.8, 649.0, 1651.0, 645.5, 1652.3, 640.6, 1652.5, 636.2, 1652.0, 631.8, 1653.1, 626.7, 1653.2, 621.6, 1654.2, 616.7, 1654.4, 611.0, 1653.8, 606.4, 1652.4, 602.7, 1648.9, 598.3, 1645.8, 596.6, 1642.4, 595.6, 1640.7, 595.0, 1640.0, 594.2, 1641.8, 591.2, 1642.3, 587.8, 1642.0, 585.6, 1640.5, 583.0, 1638.6, 580.8, 1635.4, 579.9, 1632.3, 580.0, 1630.0, 581.2, 1627.6, 583.1, 1626.0, 584.9, 1625.2, 586.3, 1624.0, 588.6, 1623.5, 590.9, 1623.7, 592.5, 1624.6, 594.1, 1624.6, 595.8, 1625.6, 597.0, 1627.9, 597.5, 1628.7, 597.5, 1627.8, 598.3, 1626.8, 600.2, 1626.6, 603.8, 1625.8, 607.2, 1625.4, 610.0, 1625.6, 613.3, 1624.3, 617.8, 1622.7, 622.6, 1621.3, 627.6, 1620.2, 630.2, 1618.9, 633.6, 1618.9, 635.0, 1618.5, 636.3, 1617.4, 638.4, 1617.0, 641.1, 1617.1, 644.6, 1618.3, 646.3, 1620.5, 646.5, 1622.1, 645.6, 1622.2, 643.8, 1621.6, 641.3, 1622.6, 638.6, 1623.6, 637.3, 1625.1, 635.5, 1626.6, 633.2, 1628.2, 631.1, 1628.7, 628.6, 1628.5, 634.5, 1628.9, 639.6, 1629.3, 644.9, 1629.4, 648.5, 1629.3, 652.5, 1628.0, 656.4, 1626.4, 659.8, 1625.2, 663.5, 1624.1, 667.4, 1624.0, 672.4, 1622.7, 677.2, 1620.8, 682.9, 1619.2, 688.5, 1617.9, 692.3, 1616.6, 695.1, 1614.6, 697.3, 1611.2, 698.6, 1607.7, 699.5, 1604.5, 699.7, 1603.3, 700.7, 1605.4, 702.9, 1608.8, 703.4, 1612.8, 703.7, 1617.3, 703.9, 1620.2, 703.9, 1622.0, 703.2, 1623.2, 701.7, 1623.6, 699.6, 1623.5, 698.8, 1625.1, 697.8, 1625.4, 695.7, 1626.3, 693.8, 1628.5, 690.8]], 'area': 2888.0, 'bbox': [1603.3, 579.9, 58.8, 124.0], 'iscrowd': 0, 'attributes': {'occluded': False}}\n"
     ]
    }
   ],
   "source": [
    "path_to_annotations = '../football-dataset/annotations/instances_default.json'\n",
    "image_folder = '../football-dataset/images/'\n",
    "\n",
    "\n",
    "num_images = len(os.listdir(image_folder))\n",
    "print(f'Number of images: {num_images}')\n",
    "\n",
    "with open(path_to_annotations) as f:\n",
    "    data = json.load(f)\n",
    "\n",
    "first_image = data['images'][0]\n",
    "first_annotation = data['annotations'][0]\n",
    "print(f\"Example image: {first_image}\")\n",
    "print(f\"Example annotation: {first_annotation}\")"
   ]
  },
  {
   "cell_type": "markdown",
   "metadata": {},
   "source": [
    "### Create annotations\n"
   ]
  },
  {
   "cell_type": "code",
   "execution_count": 20,
   "metadata": {},
   "outputs": [],
   "source": [
    "# Create labels from the annotations in yolo format and put them in labels folder\n",
    "\n",
    "width, height = 1920, 1080\n",
    "\n",
    "for image in data['images']:\n",
    "    image_name = image['file_name']\n",
    "    image_id = image['id']\n",
    "    image_annotations = [annotation for annotation in data['annotations'] if annotation['image_id'] == image_id]\n",
    "    with open(f'../football-dataset/labels/{image_name.split(\".\")[0]}.txt', 'w') as f:\n",
    "        for annotation in image_annotations:\n",
    "            category_id = annotation['category_id']\n",
    "            bbox = annotation['bbox']\n",
    "            segmentation = annotation['segmentation']\n",
    "            # Convert the segmentation polygon to yolo format\n",
    "            segmentation = np.array(segmentation).reshape(-1, 2)   \n",
    "            segmentation[:, 0] = segmentation[:, 0] / width\n",
    "            segmentation[:, 1] = segmentation[:, 1] / height\n",
    "            segmentation = segmentation.flatten()\n",
    "\n",
    "            # Unbox segmentation into string\n",
    "            segmentation = [str(x) for x in segmentation]\n",
    "            segmentation = ' '.join(segmentation)\n",
    "            category_id = int(category_id) - 1\n",
    "            f.write(f\"{str(category_id)} {segmentation}\\n\")\n"
   ]
  },
  {
   "cell_type": "markdown",
   "metadata": {},
   "source": [
    "### Put annotations in correct folder structure"
   ]
  },
  {
   "cell_type": "code",
   "execution_count": 21,
   "metadata": {},
   "outputs": [
    {
     "name": "stdout",
     "output_type": "stream",
     "text": [
      "Number of train images: 409\n",
      "Number of valid images: 51\n",
      "Number of test images: 52\n",
      "['0.jpg', '1.jpg', '10.jpg', '100.jpg', '101.jpg', '102.jpg', '103.jpg', '104.jpg', '106.jpg', '107.jpg', '108.jpg', '109.jpg', '11.jpg', '110.jpg', '111.jpg', '112.jpg', '113.jpg', '114.jpg', '115.jpg', '116.jpg', '117.jpg', '118.jpg', '119.jpg', '12.jpg', '120.jpg', '121.jpg', '122.jpg', '123.jpg', '124.jpg', '125.jpg', '126.jpg', '127.jpg', '128.jpg', '129.jpg', '13.jpg', '130.jpg', '131.jpg', '132.jpg', '133.jpg', '134.jpg', '135.jpg', '136.jpg', '137.jpg', '138.jpg', '139.jpg', '14.jpg', '140.jpg', '141.jpg', '142.jpg', '143.jpg', '144.jpg', '146.jpg', '147.jpg', '148.jpg', '149.jpg', '15.jpg', '150.jpg', '151.jpg', '153.jpg', '154.jpg', '155.jpg', '156.jpg', '157.jpg', '158.jpg', '16.jpg', '160.jpg', '161.jpg', '162.jpg', '163.jpg', '164.jpg', '165.jpg', '166.jpg', '167.jpg', '168.jpg', '169.jpg', '17.jpg', '170.jpg', '171.jpg', '172.jpg', '173.jpg', '174.jpg', '175.jpg', '176.jpg', '177.jpg', '178.jpg', '179.jpg', '18.jpg', '180.jpg', '181.jpg', '182.jpg', '183.jpg', '184.jpg', '185.jpg', '186.jpg', '187.jpg', '188.jpg', '189.jpg', '19.jpg', '190.jpg', '191.jpg', '192.jpg', '193.jpg', '194.jpg', '195.jpg', '196.jpg', '197.jpg', '198.jpg', '199.jpg', '2.jpg', '20.jpg', '200.jpg', '201.jpg', '202.jpg', '203.jpg', '204.jpg', '205.jpg', '206.jpg', '207.jpg', '208.jpg', '209.jpg', '21.jpg', '210.jpg', '211.jpg', '212.jpg', '213.jpg', '214.jpg', '215.jpg', '216.jpg', '217.jpg', '22.jpg', '220.jpg', '221.jpg', '222.jpg', '223.jpg', '224.jpg', '225.jpg', '226.jpg', '227.jpg', '228.jpg', '229.jpg', '23.jpg', '230.jpg', '231.jpg', '232.jpg', '233.jpg', '234.jpg', '235.jpg', '236.jpg', '237.jpg', '238.jpg', '239.jpg', '24.jpg', '240.jpg', '241.jpg', '242.jpg', '243.jpg', '244.jpg', '245.jpg', '246.jpg', '247.jpg', '248.jpg', '249.jpg', '25.jpg', '252.jpg', '253.jpg', '254.jpg', '255.jpg', '256.jpg', '257.jpg', '258.jpg', '26.jpg', '260.jpg', '261.jpg', '262.jpg', '263.jpg', '264.jpg', '265.jpg', '266.jpg', '267.jpg', '268.jpg', '269.jpg', '27.jpg', '270.jpg', '271.jpg', '272.jpg', '273.jpg', '274.jpg', '275.jpg', '276.jpg', '277.jpg', '278.jpg', '279.jpg', '28.jpg', '280.jpg', '281.jpg', '282.jpg', '283.jpg', '284.jpg', '285.jpg', '286.jpg', '287.jpg', '288.jpg', '289.jpg', '29.jpg', '290.jpg', '291.jpg', '292.jpg', '293.jpg', '294.jpg', '295.jpg', '296.jpg', '297.jpg', '298.jpg', '299.jpg', '3.jpg', '30.jpg', '300.jpg', '301.jpg', '302.jpg', '303.jpg', '304.jpg', '305.jpg', '306.jpg', '307.jpg', '308.jpg', '309.jpg', '31.jpg', '310.jpg', '311.jpg', '312.jpg', '313.jpg', '314.jpg', '315.jpg', '316.jpg', '317.jpg', '318.jpg', '319.jpg', '32.jpg', '320.jpg', '321.jpg', '322.jpg', '323.jpg', '324.jpg', '325.jpg', '327.jpg', '328.jpg', '329.jpg', '33.jpg', '330.jpg', '331.jpg', '332.jpg', '333.jpg', '334.jpg', '335.jpg', '336.jpg', '337.jpg', '34.jpg', '340.jpg', '341.jpg', '342.jpg', '343.jpg', '344.jpg', '345.jpg', '346.jpg', '347.jpg', '349.jpg', '35.jpg', '350.jpg', '351.jpg', '352.jpg', '353.jpg', '354.jpg', '355.jpg', '357.jpg', '358.jpg', '359.jpg', '36.jpg', '360.jpg', '361.jpg', '362.jpg', '363.jpg', '364.jpg', '365.jpg', '366.jpg', '367.jpg', '368.jpg', '369.jpg', '37.jpg', '370.jpg', '371.jpg', '372.jpg', '373.jpg', '374.jpg', '375.jpg', '376.jpg', '377.jpg', '378.jpg', '379.jpg', '38.jpg', '380.jpg', '381.jpg', '382.jpg', '383.jpg', '384.jpg', '385.jpg', '386.jpg', '387.jpg', '388.jpg', '389.jpg', '39.jpg', '390.jpg', '391.jpg', '392.jpg', '393.jpg', '394.jpg', '395.jpg', '396.jpg', '397.jpg', '398.jpg', '399.jpg', '4.jpg', '40.jpg', '400.jpg', '401.jpg', '402.jpg', '403.jpg', '404.jpg', '405.jpg', '406.jpg', '407.jpg', '408.jpg', '409.jpg', '41.jpg', '410.jpg', '411.jpg', '412.jpg', '413.jpg', '414.jpg', '415.jpg', '416.jpg', '417.jpg', '418.jpg', '419.jpg', '42.jpg', '420.jpg', '421.jpg', '422.jpg', '423.jpg', '424.jpg', '425.jpg', '426.jpg', '427.jpg', '428.jpg', '429.jpg', '43.jpg', '430.jpg', '431.jpg', '432.jpg', '433.jpg', '434.jpg', '435.jpg', '436.jpg', '437.jpg', '438.jpg', '439.jpg', '44.jpg', '440.jpg', '441.jpg', '442.jpg', '443.jpg', '444.jpg', '445.jpg', '446.jpg', '447.jpg', '448.jpg', '449.jpg', '45.jpg', '450.jpg', '451.jpg', '452.jpg', '453.jpg', '454.jpg', '455.jpg', '456.jpg', '457.jpg', '458.jpg', '459.jpg', '46.jpg', '460.jpg', '461.jpg', '462.jpg', '463.jpg', '464.jpg', '465.jpg', '466.jpg', '467.jpg', '468.jpg', '469.jpg', '47.jpg', '470.jpg', '471.jpg', '472.jpg', '473.jpg', '474.jpg', '475.jpg', '476.jpg', '477.jpg', '478.jpg', '479.jpg']\n"
     ]
    }
   ],
   "source": [
    "# Split the images and labels folder into train, valid and test folders\n",
    "images = os.listdir('../football-dataset/images/')\n",
    "labels = os.listdir('../football-dataset/labels/')\n",
    "images.sort()\n",
    "labels.sort()\n",
    "\n",
    "train_images = images[:int(0.8 * len(images))]\n",
    "train_labels = labels[:int(0.8 * len(labels))]\n",
    "valid_images = images[int(0.8 * len(images)):int(0.9 * len(images))]\n",
    "valid_labels = labels[int(0.8 * len(labels)):int(0.9 * len(labels))]\n",
    "test_images = images[int(0.9 * len(images)):]\n",
    "test_labels = labels[int(0.9 * len(labels)):]\n",
    "print(f\"Number of train images: {len(train_images)}\")\n",
    "print(f\"Number of valid images: {len(valid_images)}\")\n",
    "print(f\"Number of test images: {len(test_images)}\")\n",
    "\n",
    "# Create the train, valid and test folders\n",
    "os.makedirs('../football-dataset-yolo/train/images', exist_ok=True)\n",
    "os.makedirs('../football-dataset-yolo/train/labels', exist_ok=True)\n",
    "os.makedirs('../football-dataset-yolo/valid/images', exist_ok=True)\n",
    "os.makedirs('../football-dataset-yolo/valid/labels', exist_ok=True)\n",
    "os.makedirs('../football-dataset-yolo/test/images', exist_ok=True)\n",
    "os.makedirs('../football-dataset-yolo/test/labels', exist_ok=True)\n",
    "\n",
    "print(train_images)\n",
    "\n",
    "# Move the images and labels to the respective folders\n",
    "for image, label in zip(train_images, train_labels):\n",
    "    os.rename(f'../football-dataset/images/{image}', f'../football-dataset-yolo/train/images/{image}')\n",
    "    os.rename(f'../football-dataset/labels/{label}', f'../football-dataset-yolo/train/labels/{label}')\n",
    "\n",
    "for image, label in zip(valid_images, valid_labels):\n",
    "    os.rename(f'../football-dataset/images/{image}', f'../football-dataset-yolo/valid/images/{image}')\n",
    "    os.rename(f'../football-dataset/labels/{label}', f'../football-dataset-yolo/valid/labels/{label}')\n",
    "\n",
    "for image, label in zip(test_images, test_labels):\n",
    "    os.rename(f'../football-dataset/images/{image}', f'../football-dataset-yolo/test/images/{image}')\n",
    "    os.rename(f'../football-dataset/labels/{label}', f'../football-dataset-yolo/test/labels/{label}')\n",
    "                      "
   ]
  },
  {
   "cell_type": "markdown",
   "metadata": {},
   "source": []
  }
 ],
 "metadata": {
  "kernelspec": {
   "display_name": "dl",
   "language": "python",
   "name": "python3"
  },
  "language_info": {
   "codemirror_mode": {
    "name": "ipython",
    "version": 3
   },
   "file_extension": ".py",
   "mimetype": "text/x-python",
   "name": "python",
   "nbconvert_exporter": "python",
   "pygments_lexer": "ipython3",
   "version": "3.10.0"
  }
 },
 "nbformat": 4,
 "nbformat_minor": 2
}
