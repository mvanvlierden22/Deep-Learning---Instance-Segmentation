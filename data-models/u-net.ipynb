{
 "cells": [
  {
   "cell_type": "code",
   "execution_count": 6,
   "id": "2ad1feb8-3409-4229-a76d-35ca7630b35c",
   "metadata": {},
   "outputs": [
    {
     "ename": "ModuleNotFoundError",
     "evalue": "No module named 'distutils'",
     "output_type": "error",
     "traceback": [
      "\u001b[1;31m---------------------------------------------------------------------------\u001b[0m",
      "\u001b[1;31mModuleNotFoundError\u001b[0m                       Traceback (most recent call last)",
      "Cell \u001b[1;32mIn[6], line 5\u001b[0m\n\u001b[0;32m      3\u001b[0m \u001b[39mimport\u001b[39;00m \u001b[39mmatplotlib\u001b[39;00m\u001b[39m.\u001b[39;00m\u001b[39mpyplot\u001b[39;00m \u001b[39mas\u001b[39;00m \u001b[39mplt\u001b[39;00m\n\u001b[0;32m      4\u001b[0m \u001b[39mimport\u001b[39;00m \u001b[39mcv2\u001b[39;00m\n\u001b[1;32m----> 5\u001b[0m \u001b[39mimport\u001b[39;00m \u001b[39mtensorflow\u001b[39;00m \u001b[39mas\u001b[39;00m \u001b[39mtf\u001b[39;00m\n\u001b[0;32m      6\u001b[0m \u001b[39mimport\u001b[39;00m \u001b[39mjson\u001b[39;00m\n\u001b[0;32m      7\u001b[0m \u001b[39mimport\u001b[39;00m \u001b[39mos\u001b[39;00m\n",
      "File \u001b[1;32mc:\\Users\\u791280\\repositories\\Deep-Learning---Instance-Segmentation\\dl\\Lib\\site-packages\\tensorflow\\__init__.py:30\u001b[0m\n\u001b[0;32m     15\u001b[0m \u001b[39m\"\"\"\u001b[39;00m\n\u001b[0;32m     16\u001b[0m \u001b[39mTop-level module of TensorFlow. By convention, we refer to this module as\u001b[39;00m\n\u001b[0;32m     17\u001b[0m \u001b[39m`tf` instead of `tensorflow`, following the common practice of importing\u001b[39;00m\n\u001b[1;32m   (...)\u001b[0m\n\u001b[0;32m     26\u001b[0m \u001b[39mthis file with a file generated from [`api_template.__init__.py`](https://www.github.com/tensorflow/tensorflow/blob/master/tensorflow/api_template.__init__.py)\u001b[39;00m\n\u001b[0;32m     27\u001b[0m \u001b[39m\"\"\"\u001b[39;00m\n\u001b[0;32m     28\u001b[0m \u001b[39m# pylint: disable=g-bad-import-order,protected-access,g-import-not-at-top\u001b[39;00m\n\u001b[1;32m---> 30\u001b[0m \u001b[39mimport\u001b[39;00m \u001b[39mdistutils\u001b[39;00m \u001b[39mas\u001b[39;00m \u001b[39m_distutils\u001b[39;00m\n\u001b[0;32m     31\u001b[0m \u001b[39mimport\u001b[39;00m \u001b[39mimportlib\u001b[39;00m\n\u001b[0;32m     32\u001b[0m \u001b[39mimport\u001b[39;00m \u001b[39minspect\u001b[39;00m \u001b[39mas\u001b[39;00m \u001b[39m_inspect\u001b[39;00m\n",
      "\u001b[1;31mModuleNotFoundError\u001b[0m: No module named 'distutils'"
     ]
    }
   ],
   "source": [
    "import numpy as np\n",
    "import pandas as pd\n",
    "import matplotlib.pyplot as plt\n",
    "import cv2\n",
    "import tensorflow as tf\n",
    "import json\n",
    "import os\n",
    "import imantics\n",
    "from PIL import Image\n",
    "from skimage.transform import resize\n",
    "import random\n",
    "from sklearn.model_selection import train_test_split\n"
   ]
  },
  {
   "cell_type": "code",
   "execution_count": null,
   "id": "a29bc7aa-46e2-47d8-bbe6-76009d666aea",
   "metadata": {},
   "outputs": [],
   "source": [
    "base_dir = '/kaggle/input/football-player-segmentation'\n",
    "annote_dir = f'{base_dir}/annotations/instances_default.json'\n",
    "images_dir = f'{base_dir}/images' "
   ]
  },
  {
   "cell_type": "code",
   "execution_count": null,
   "id": "a339b89e-fe8c-4903-b06b-5ba52963ea4f",
   "metadata": {},
   "outputs": [],
   "source": [
    "image_size = 512\n",
    "input_image_size = (1920, 1080)"
   ]
  },
  {
   "cell_type": "code",
   "execution_count": null,
   "id": "778b2ddd-cd1d-48ca-b317-4ffe86d74c2c",
   "metadata": {},
   "outputs": [],
   "source": [
    "images_listdir = os.listdir(images_dir)\n",
    "print(f\"{blk}Dataset contains {red}{len(images_listdir)} {blk}images\")"
   ]
  },
  {
   "cell_type": "code",
   "execution_count": null,
   "id": "f044efc9-9556-491f-986d-d147ff4b1c73",
   "metadata": {},
   "outputs": [],
   "source": [
    "def read_image(path):\n",
    "    img = cv2.imread(path)\n",
    "    img = cv2.cvtColor(img, cv2.COLOR_BGR2RGB)\n",
    "    img = cv2.resize(img, (image_size, image_size))\n",
    "    return img"
   ]
  },
  {
   "cell_type": "code",
   "execution_count": null,
   "id": "ea2d06ed-7a6e-40ca-ad08-bf2a9f3f3a2f",
   "metadata": {},
   "outputs": [],
   "source": [
    "random_images = np.random.choice(images_listdir, size = 9, replace = False)"
   ]
  },
  {
   "cell_type": "code",
   "execution_count": null,
   "id": "7b5c1d04-2b8d-4cab-a57d-6443f5cc1b60",
   "metadata": {},
   "outputs": [],
   "source": [
    "rows = 3\n",
    "cols = 3\n",
    "fig, ax = plt.subplots(rows, cols, figsize = (12,8))\n",
    "\n",
    "for i, ax in enumerate(ax.flat):\n",
    "    if i < len(random_images):\n",
    "        img = read_image(f\"{images_dir}/{random_images[i]}\")\n",
    "        ax.set_title(f\"{random_images[i]}\")\n",
    "        ax.imshow(img)\n",
    "        ax.axis('off')"
   ]
  },
  {
   "cell_type": "markdown",
   "id": "cf5e94a8-af64-4da4-9c6d-fc93eed1d463",
   "metadata": {},
   "source": [
    "Training models"
   ]
  },
  {
   "cell_type": "code",
   "execution_count": null,
   "id": "ed8e284d-22d5-4391-a23f-e38496aae223",
   "metadata": {},
   "outputs": [],
   "source": [
    "annote = json.load(open(annote_dir))"
   ]
  },
  {
   "cell_type": "code",
   "execution_count": null,
   "id": "b5399f72-fc1e-4101-87cc-e13c6aa5f151",
   "metadata": {},
   "outputs": [],
   "source": [
    "id_to_images = {image['id']:image['file_name'] for image in annote['images']}"
   ]
  },
  {
   "cell_type": "code",
   "execution_count": null,
   "id": "ebd899bc-0ae7-4577-ae73-21873e2489b3",
   "metadata": {},
   "outputs": [],
   "source": [
    "images = np.zeros((len(images_listdir), image_size, image_size, 3), dtype=np.uint8)\n",
    "\n",
    "for image_id, image_filename in id_to_images.items():\n",
    "    cur_image = read_image(f\"{images_dir}/{image_filename}\")\n",
    "    images[image_id - 1] = cur_image"
   ]
  },
  {
   "cell_type": "code",
   "execution_count": null,
   "id": "8dc58bae-c280-48b2-a313-defefc592494",
   "metadata": {},
   "outputs": [],
   "source": [
    "masks = np.zeros((len(images_listdir), image_size, image_size, 1), dtype=bool)\n",
    "\n",
    "for annotation in annote[\"annotations\"]:\n",
    "    image_id = annotation[\"image_id\"]\n",
    "    segmentation = annotation[\"segmentation\"]\n",
    "\n",
    "    cur_mask = imantics.Polygons(segmentation).mask(*input_image_size).array\n",
    "    cur_mask = np.expand_dims(resize(cur_mask, (image_size, image_size), mode='constant', preserve_range=True), 2)\n",
    "\n",
    "    mask_index = image_id - 1\n",
    "    masks[mask_index] = masks[mask_index] | cur_mask"
   ]
  },
  {
   "cell_type": "code",
   "execution_count": null,
   "id": "ef1a8575-4f80-4fc3-b70a-d84afe8f6dc7",
   "metadata": {},
   "outputs": [],
   "source": [
    "random_numbers = [random.randint(0, 511) for _ in range(9)]"
   ]
  },
  {
   "cell_type": "code",
   "execution_count": null,
   "id": "195a08ad-49ed-46da-9dc6-4bbdcee1ce59",
   "metadata": {},
   "outputs": [],
   "source": [
    "fig, ax = plt.subplots(rows, cols, figsize = (12,8))\n",
    "\n",
    "for i, ax in enumerate(ax.flat):\n",
    "    if i < len(random_numbers):\n",
    "        ax.imshow(images[i])\n",
    "        ax.imshow(masks[i], alpha=0.5)\n",
    "        ax.axis('off')"
   ]
  },
  {
   "cell_type": "markdown",
   "id": "1ca03839-2f3d-4818-a880-d6104a7ae9eb",
   "metadata": {},
   "source": [
    "U-Net"
   ]
  },
  {
   "cell_type": "code",
   "execution_count": null,
   "id": "d3092fcd-5d79-4fb2-beb0-e7f6919fe236",
   "metadata": {},
   "outputs": [],
   "source": [
    "def conv_block(input, num_filters):\n",
    "    conv = tf.keras.layers.Conv2D(num_filters, 3, padding=\"same\")(input)\n",
    "    conv = tf.keras.layers.BatchNormalization()(conv)\n",
    "    conv = tf.keras.layers.Activation(\"relu\")(conv)\n",
    "    conv = tf.keras.layers.Conv2D(num_filters, 3, padding=\"same\")(conv)\n",
    "    conv = tf.keras.layers.BatchNormalization()(conv)\n",
    "    conv = tf.keras.layers.Activation(\"relu\")(conv)\n",
    "    return conv\n",
    "\n",
    "def encoder_block(input, num_filters):\n",
    "    skip = conv_block(input, num_filters)\n",
    "    pool = tf.keras.layers.MaxPool2D((2, 2))(skip)\n",
    "    return skip, pool\n",
    "\n",
    "def decoder_block(input, skip, num_filters):\n",
    "    up_conv = tf.keras.layers.Conv2DTranspose(num_filters, (2, 2), strides=2, padding=\"same\")(input)\n",
    "    conv = tf.keras.layers.Concatenate()([up_conv, skip])\n",
    "    conv = conv_block(conv, num_filters)\n",
    "    return conv\n",
    "\n",
    "def Unet(input_shape):\n",
    "    inputs = tf.keras.layers.Input(input_shape)\n",
    "\n",
    "    skip1, pool1 = encoder_block(inputs, 64)\n",
    "    skip2, pool2 = encoder_block(pool1, 128)\n",
    "    skip3, pool3 = encoder_block(pool2, 256)\n",
    "    skip4, pool4 = encoder_block(pool3, 512)\n",
    "    \n",
    "     bridge = conv_block(pool4, 1024)\n",
    "\n",
    "    decode1 = decoder_block(bridge, skip4, 512)\n",
    "    decode2 = decoder_block(decode1, skip3, 256)\n",
    "    decode3 = decoder_block(decode2, skip2, 128)\n",
    "    decode4 = decoder_block(decode3, skip1, 64)\n",
    "\n",
    "    outputs = tf.keras.layers.Conv2D(1, 1, padding=\"same\", activation=\"sigmoid\")(decode4)\n",
    "\n",
    "    model = tf.keras.models.Model(inputs, outputs, name=\"U-Net\")\n",
    "    return model\n",
    "\n",
    "unet_model = Unet((512, 512, 3))\n",
    "unet_model.compile(optimizer='adam', loss='binary_crossentropy', metrics=['accuracy'])\n",
    "unet_model.summary()"
   ]
  },
  {
   "cell_type": "code",
   "execution_count": null,
   "id": "b0877137-5aa0-41c5-8247-f6b4d5c181bb",
   "metadata": {},
   "outputs": [],
   "source": [
    "unet_result = unet_model.fit(images_train, masks_train, validation_split = 0.2, batch_size = 4, epochs = 5)"
   ]
  }
 ],
 "metadata": {
  "kernelspec": {
   "display_name": "Python 3 (ipykernel)",
   "language": "python",
   "name": "python3"
  },
  "language_info": {
   "codemirror_mode": {
    "name": "ipython",
    "version": 3
   },
   "file_extension": ".py",
   "mimetype": "text/x-python",
   "name": "python",
   "nbconvert_exporter": "python",
   "pygments_lexer": "ipython3",
   "version": "3.12.3"
  }
 },
 "nbformat": 4,
 "nbformat_minor": 5
}
