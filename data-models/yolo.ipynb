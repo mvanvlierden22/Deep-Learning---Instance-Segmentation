{
 "cells": [
  {
   "cell_type": "markdown",
   "metadata": {},
   "source": [
    "# Yolo V9\n"
   ]
  },
  {
   "cell_type": "markdown",
   "metadata": {},
   "source": [
    "### Get started\n",
    "- Download dataset through RoboFlow API\n"
   ]
  },
  {
   "cell_type": "code",
   "execution_count": 2,
   "metadata": {},
   "outputs": [
    {
     "name": "stdout",
     "output_type": "stream",
     "text": [
      "loading Roboflow workspace...\n",
      "loading Roboflow project...\n",
      "Dependency ultralytics==8.0.196 is required but found version=8.2.2, to fix: `pip install ultralytics==8.0.196`\n",
      "Dataset downloaded and saved at: <roboflow.core.dataset.Dataset object at 0x780cd5600220>\n"
     ]
    }
   ],
   "source": [
    "import os\n",
    "from roboflow import Roboflow\n",
    "import cv2\n",
    "\n",
    "\n",
    "# Initialize Roboflow and download the dataset\n",
    "rf = Roboflow(api_key=\"Qg1dq8rp1RHvCPvgWSNZ\")\n",
    "project = rf.workspace(\"roboflow-jvuqo\").project(\"football-players-detection-3zvbc\")\n",
    "version = project.version(8)\n",
    "dataset = version.download(\"yolov8\", \"../datasets/football-players-detection\")\n",
    "\n",
    "# Print the path where the dataset is saved\n",
    "print(\"Dataset downloaded and saved at:\", dataset)\n"
   ]
  },
  {
   "cell_type": "markdown",
   "metadata": {},
   "source": [
    "### Custom callback function for freezing of layers"
   ]
  },
  {
   "cell_type": "code",
   "execution_count": 3,
   "metadata": {},
   "outputs": [],
   "source": [
    "def freeze_layer(trainer):\n",
    "    model = trainer.model\n",
    "    num_freeze = 10\n",
    "    print(f\"Freezing {num_freeze} layers\")\n",
    "    freeze = [f'model.{x}.' for x in range(num_freeze)]  # layers to freeze \n",
    "    for k, v in model.named_parameters(): \n",
    "        v.requires_grad = True  # train all layers \n",
    "        if any(x in k for x in freeze): \n",
    "            print(f'freezing {k}') \n",
    "            v.requires_grad = False \n",
    "    print(f\"{num_freeze} layers are freezed.\")"
   ]
  },
  {
   "cell_type": "markdown",
   "metadata": {},
   "source": [
    "### Train model"
   ]
  },
  {
   "cell_type": "code",
   "execution_count": 4,
   "metadata": {},
   "outputs": [
    {
     "name": "stdout",
     "output_type": "stream",
     "text": [
      "YOLOv9c summary: 618 layers, 25590912 parameters, 0 gradients, 104.0 GFLOPs\n"
     ]
    },
    {
     "data": {
      "text/plain": [
       "(618, 25590912, 0, 104.02268160000003)"
      ]
     },
     "execution_count": 4,
     "metadata": {},
     "output_type": "execute_result"
    }
   ],
   "source": [
    "from ultralytics import YOLO\n",
    "\n",
    "# Build a YOLOv9c model from pretrained weight\n",
    "model = YOLO('../pretrained-weights/yolov9c.pt')\n",
    "\n",
    "# Display model information (optional)\n",
    "model.info()\n",
    "\n",
    "# Freeze the first 10 layers (backbone) of the model\n",
    "model.add_callback(\"on_train_start\", freeze_layer)\n",
    "\n",
    "# Train the model on the COCO8 example dataset for 100 epochs\n",
    "results = model.train(data='../datasets/football-players-detection/data.yaml', epochs=1, imgsz=640)\n",
    "\n"
   ]
  },
  {
   "cell_type": "markdown",
   "metadata": {},
   "source": [
    "### Run inference"
   ]
  },
  {
   "cell_type": "code",
   "execution_count": 8,
   "metadata": {},
   "outputs": [
    {
     "name": "stdout",
     "output_type": "stream",
     "text": [
      "\n",
      "0: 384x640 23 persons, 877.1ms\n",
      "1: 384x640 24 persons, 1 tv, 877.1ms\n",
      "2: 384x640 19 persons, 1 tv, 877.1ms\n",
      "3: 384x640 24 persons, 1 tv, 877.1ms\n",
      "4: 384x640 19 persons, 877.1ms\n",
      "5: 384x640 31 persons, 877.1ms\n",
      "6: 384x640 23 persons, 1 tv, 877.1ms\n",
      "7: 384x640 21 persons, 1 tv, 877.1ms\n",
      "8: 384x640 23 persons, 877.1ms\n",
      "9: 384x640 26 persons, 1 tv, 877.1ms\n",
      "10: 384x640 24 persons, 1 tv, 877.1ms\n",
      "11: 384x640 27 persons, 877.1ms\n",
      "12: 384x640 19 persons, 1 tv, 877.1ms\n",
      "Speed: 2.9ms preprocess, 877.1ms inference, 0.8ms postprocess per image at shape (1, 3, 384, 640)\n"
     ]
    }
   ],
   "source": [
    "# Run inference with the YOLOv9c model on the 'bus.jpg' image\n",
    "\n",
    "dir = '../datasets/football-players-detection/test/images/'\n",
    "images = [dir + f for f in os.listdir(dir) if f.endswith('.jpg')]\n",
    "\n",
    "results = model(images)"
   ]
  },
  {
   "cell_type": "markdown",
   "metadata": {},
   "source": [
    "### Show inferenced image"
   ]
  },
  {
   "cell_type": "code",
   "execution_count": 7,
   "metadata": {},
   "outputs": [],
   "source": [
    "# Visualize the results on the frame\n",
    "annotated_frame = results[0].plot()\n"
   ]
  }
 ],
 "metadata": {
  "kernelspec": {
   "display_name": "dl",
   "language": "python",
   "name": "python3"
  },
  "language_info": {
   "codemirror_mode": {
    "name": "ipython",
    "version": 3
   },
   "file_extension": ".py",
   "mimetype": "text/x-python",
   "name": "python",
   "nbconvert_exporter": "python",
   "pygments_lexer": "ipython3",
   "version": "3.10.0"
  }
 },
 "nbformat": 4,
 "nbformat_minor": 2
}
